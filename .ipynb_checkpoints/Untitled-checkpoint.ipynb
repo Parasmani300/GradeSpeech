{
 "cells": [
  {
   "cell_type": "code",
   "execution_count": 1,
   "metadata": {},
   "outputs": [
    {
     "name": "stdout",
     "output_type": "stream",
     "text": [
      "Requirement already satisfied: myprosody in c:\\users\\user 1\\anaconda3\\lib\\site-packages (20)\n",
      "Requirement already satisfied: pandas>=0.23.4 in c:\\users\\user 1\\anaconda3\\lib\\site-packages (from myprosody) (0.24.2)\n",
      "Requirement already satisfied: pickleshare>=0.7.5 in c:\\users\\user 1\\anaconda3\\lib\\site-packages (from myprosody) (0.7.5)\n",
      "Requirement already satisfied: numpy>=1.15.2 in c:\\users\\user 1\\anaconda3\\lib\\site-packages (from myprosody) (1.16.2)\n",
      "Requirement already satisfied: scipy>=1.1.0 in c:\\users\\user 1\\anaconda3\\lib\\site-packages (from myprosody) (1.2.1)\n",
      "Requirement already satisfied: scikit-learn>=0.20.2 in c:\\users\\user 1\\anaconda3\\lib\\site-packages (from myprosody) (0.20.3)\n",
      "Requirement already satisfied: praat-parselmouth>=0.3.2 in c:\\users\\user 1\\anaconda3\\lib\\site-packages (from myprosody) (0.3.3)\n",
      "Requirement already satisfied: python-dateutil>=2.5.0 in c:\\users\\user 1\\anaconda3\\lib\\site-packages (from pandas>=0.23.4->myprosody) (2.8.0)\n",
      "Requirement already satisfied: pytz>=2011k in c:\\users\\user 1\\anaconda3\\lib\\site-packages (from pandas>=0.23.4->myprosody) (2018.9)\n",
      "Requirement already satisfied: six>=1.5 in c:\\users\\user 1\\anaconda3\\lib\\site-packages (from python-dateutil>=2.5.0->pandas>=0.23.4->myprosody) (1.12.0)\n"
     ]
    }
   ],
   "source": [
    "!pip install myprosody"
   ]
  },
  {
   "cell_type": "code",
   "execution_count": 2,
   "metadata": {},
   "outputs": [],
   "source": [
    "import myprosody as mysp\n",
    "import pickle"
   ]
  },
  {
   "cell_type": "code",
   "execution_count": 3,
   "metadata": {},
   "outputs": [
    {
     "name": "stdout",
     "output_type": "stream",
     "text": [
      "[]\n",
      "                           0\n",
      "number_ of_syllables     150\n",
      "number_of_pauses           8\n",
      "rate_of_speech             4\n",
      "articulation_rate          4\n",
      "speaking_duration       33.7\n",
      "original_duration       40.4\n",
      "balance                  0.8\n",
      "f0_mean               121.66\n",
      "f0_std                 39.18\n",
      "f0_median              110.2\n",
      "f0_min                    79\n",
      "f0_max                   400\n",
      "f0_quantile25             92\n",
      "f0_quan75                144\n"
     ]
    }
   ],
   "source": [
    "import os\n",
    "music_file_name = \"suun3\"\n",
    "file_containing_initial_directory = os.getcwd()\n",
    "file_containing_initial_directory = os.path.join(file_containing_initial_directory,\"myprosody\")\n",
    "\n",
    "mysp.mysptotal(music_file_name,file_containing_initial_directory)"
   ]
  },
  {
   "cell_type": "code",
   "execution_count": 4,
   "metadata": {},
   "outputs": [
    {
     "name": "stdout",
     "output_type": "stream",
     "text": [
      "[]\n",
      "a Male, mood of speech: Reading, p-value/sample size= :0.00 5\n"
     ]
    }
   ],
   "source": [
    "mysp.myspgend(music_file_name,file_containing_initial_directory)"
   ]
  }
 ],
 "metadata": {
  "kernelspec": {
   "display_name": "Python 3",
   "language": "python",
   "name": "python3"
  },
  "language_info": {
   "codemirror_mode": {
    "name": "ipython",
    "version": 3
   },
   "file_extension": ".py",
   "mimetype": "text/x-python",
   "name": "python",
   "nbconvert_exporter": "python",
   "pygments_lexer": "ipython3",
   "version": "3.7.3"
  }
 },
 "nbformat": 4,
 "nbformat_minor": 2
}
