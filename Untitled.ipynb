{
 "cells": [
  {
   "cell_type": "markdown",
   "metadata": {},
   "source": [
    "In this project I am using the python script of \"myprosody\" that can grade the spoken english from an audio file.\n",
    "Internally the libraries being used are:\n",
    "Numpy,scipy,scikitlearn,and some other samll python dependencies like pickle to process audio.\n",
    "\n",
    "***Th"
   ]
  },
  {
   "cell_type": "code",
   "execution_count": null,
   "metadata": {},
   "outputs": [],
   "source": [
    "!pip install myprosody"
   ]
  },
  {
   "cell_type": "code",
   "execution_count": 2,
   "metadata": {},
   "outputs": [],
   "source": [
    "import myprosody as mysp\n",
    "import pickle"
   ]
  },
  {
   "cell_type": "code",
   "execution_count": 8,
   "metadata": {},
   "outputs": [
    {
     "name": "stdout",
     "output_type": "stream",
     "text": [
      "[]\n",
      "                           0\n",
      "number_ of_syllables     150\n",
      "number_of_pauses           8\n",
      "rate_of_speech             4\n",
      "articulation_rate          4\n",
      "speaking_duration       33.7\n",
      "original_duration       40.4\n",
      "balance                  0.8\n",
      "f0_mean               121.66\n",
      "f0_std                 39.18\n",
      "f0_median              110.2\n",
      "f0_min                    79\n",
      "f0_max                   400\n",
      "f0_quantile25             92\n",
      "f0_quan75                144\n"
     ]
    }
   ],
   "source": [
    "import os\n",
    "music_file_name = \"Welcome\"\n",
    "file_containing_initial_directory = os.getcwd()\n",
    "file_containing_initial_directory = os.path.join(file_containing_initial_directory,\"myprosody\")\n",
    "\n",
    "mysp.mysptotal(music_file_name,file_containing_initial_directory)"
   ]
  },
  {
   "cell_type": "code",
   "execution_count": 9,
   "metadata": {},
   "outputs": [
    {
     "name": "stdout",
     "output_type": "stream",
     "text": [
      "[]\n",
      "number_ of_syllables= 150\n"
     ]
    }
   ],
   "source": [
    "mysp.myspsyl(music_file_name,file_containing_initial_directory)"
   ]
  }
 ],
 "metadata": {
  "kernelspec": {
   "display_name": "Python 3",
   "language": "python",
   "name": "python3"
  },
  "language_info": {
   "codemirror_mode": {
    "name": "ipython",
    "version": 3
   },
   "file_extension": ".py",
   "mimetype": "text/x-python",
   "name": "python",
   "nbconvert_exporter": "python",
   "pygments_lexer": "ipython3",
   "version": "3.7.3"
  }
 },
 "nbformat": 4,
 "nbformat_minor": 2
}
